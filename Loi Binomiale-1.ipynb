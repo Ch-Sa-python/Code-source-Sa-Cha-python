{
 "cells": [
  {
   "cell_type": "code",
   "execution_count": 1,
   "id": "37dfad78",
   "metadata": {},
   "outputs": [],
   "source": [
    "import random"
   ]
  },
  {
   "cell_type": "code",
   "execution_count": 2,
   "id": "67ec05ee",
   "metadata": {},
   "outputs": [],
   "source": [
    "# simuler une variable aléatoitre suivant une loi Binomiale avec n essais et une probabilité de succès = p\n",
    "def  binomiale(n,p):\n",
    "    succes = 0\n",
    "    for _ in range(n):\n",
    "        if random.random()<p:\n",
    "            succes +=1\n",
    "    return succes        "
   ]
  },
  {
   "cell_type": "code",
   "execution_count": 3,
   "id": "449cbd9e",
   "metadata": {},
   "outputs": [
    {
     "data": {
      "text/plain": [
       "6"
      ]
     },
     "execution_count": 3,
     "metadata": {},
     "output_type": "execute_result"
    }
   ],
   "source": [
    "binomiale(10,0.6)"
   ]
  },
  {
   "cell_type": "code",
   "execution_count": 4,
   "id": "1171c677",
   "metadata": {},
   "outputs": [
    {
     "data": {
      "text/plain": [
       "7"
      ]
     },
     "execution_count": 4,
     "metadata": {},
     "output_type": "execute_result"
    }
   ],
   "source": [
    "binomiale(10,0.6)"
   ]
  },
  {
   "cell_type": "code",
   "execution_count": 5,
   "id": "197a2795",
   "metadata": {},
   "outputs": [],
   "source": [
    "# nombre de simulation = n\n",
    "def simulations(n,p):\n",
    "    resultats = [] # création d'une liste vide\n",
    "    for _ in range(n):\n",
    "        resultats.append(binomiale(n,p)) # ajout des résultats de la fonction binomiale à la liste vide\n",
    "    return(resultats)  #cette fonction retourne une liste contenants les n simulations"
   ]
  },
  {
   "cell_type": "code",
   "execution_count": 6,
   "id": "3842c985",
   "metadata": {},
   "outputs": [
    {
     "data": {
      "text/plain": [
       "[14, 10, 13, 11, 10, 12, 11, 12, 9, 11, 12, 8, 10, 10, 12, 16, 14, 12, 14, 10]"
      ]
     },
     "execution_count": 6,
     "metadata": {},
     "output_type": "execute_result"
    }
   ],
   "source": [
    "simulations(20, 0.6) #liste contenant les résultats de 20 simulations"
   ]
  },
  {
   "cell_type": "code",
   "execution_count": 7,
   "id": "71dddce9",
   "metadata": {},
   "outputs": [],
   "source": [
    "# Calcul du nombre moyen du succès après n simulations\n",
    "def moy_succes(n,p):\n",
    "    return sum(simulations(n,p))/n # le nombre moyen de succès "
   ]
  },
  {
   "cell_type": "code",
   "execution_count": 9,
   "id": "ea7780be",
   "metadata": {},
   "outputs": [
    {
     "data": {
      "text/plain": [
       "59.39"
      ]
     },
     "execution_count": 9,
     "metadata": {},
     "output_type": "execute_result"
    }
   ],
   "source": [
    "moy_succes(100,0.6) # nombre moyen du succès après 100 simulations"
   ]
  },
  {
   "cell_type": "code",
   "execution_count": 10,
   "id": "f96be127",
   "metadata": {},
   "outputs": [
    {
     "data": {
      "text/plain": [
       "600.857"
      ]
     },
     "execution_count": 10,
     "metadata": {},
     "output_type": "execute_result"
    }
   ],
   "source": [
    "moy_succes(1000,0.6) # nombre moyen du succès après 10000 simulations"
   ]
  },
  {
   "cell_type": "code",
   "execution_count": 12,
   "id": "8ee06308",
   "metadata": {},
   "outputs": [
    {
     "data": {
      "text/plain": [
       "5999.526"
      ]
     },
     "execution_count": 12,
     "metadata": {},
     "output_type": "execute_result"
    }
   ],
   "source": [
    "moy_succes(10000,0.6) # nombre moyen du succès après 10000 simulations"
   ]
  },
  {
   "cell_type": "code",
   "execution_count": null,
   "id": "b7a3e4d6",
   "metadata": {},
   "outputs": [],
   "source": [
    "moy_succes(100000,0.6) # nombre moyen du succès après 10000 simulations"
   ]
  },
  {
   "cell_type": "markdown",
   "id": "01c275e0",
   "metadata": {},
   "source": [
    "On remarque que lorsque n augmente, le nombre moyen des succès se rapproche de la valeur nxp qui n'est autre que l'esperance mathéamtique d'une loi Binomiale de paramètre n et p et ça c'est une résulat qu'on a vu dans le cours.\n",
    "L'esperance mathématique d'une loi binomiale s'interprète comme étant la moyenne des succès lorsqu'on effectue l'expériance (le scéma de bernouli) un grand nombre de fois."
   ]
  },
  {
   "cell_type": "code",
   "execution_count": null,
   "id": "7562151b",
   "metadata": {},
   "outputs": [],
   "source": []
  }
 ],
 "metadata": {
  "kernelspec": {
   "display_name": "Python 3 (ipykernel)",
   "language": "python",
   "name": "python3"
  },
  "language_info": {
   "codemirror_mode": {
    "name": "ipython",
    "version": 3
   },
   "file_extension": ".py",
   "mimetype": "text/x-python",
   "name": "python",
   "nbconvert_exporter": "python",
   "pygments_lexer": "ipython3",
   "version": "3.9.2"
  }
 },
 "nbformat": 4,
 "nbformat_minor": 5
}
